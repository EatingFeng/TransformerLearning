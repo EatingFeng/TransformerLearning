{
 "cells": [
  {
   "cell_type": "code",
   "execution_count": 6,
   "metadata": {},
   "outputs": [],
   "source": [
    "import torch\n",
    "import torch.nn as nn\n",
    "import torch.autograd"
   ]
  },
  {
   "cell_type": "code",
   "execution_count": 7,
   "metadata": {},
   "outputs": [
    {
     "name": "stdout",
     "output_type": "stream",
     "text": [
      "torch.Size([128, 30])\n"
     ]
    }
   ],
   "source": [
    "m = nn.Linear(20,30)\n",
    "inputq = torch.autograd.Variable(torch.randn(128,20))\n",
    "output = m(inputq)\n",
    "print(output.size())"
   ]
  },
  {
   "cell_type": "code",
   "execution_count": 8,
   "metadata": {},
   "outputs": [
    {
     "data": {
      "text/plain": [
       "tensor([[-0.6159,  0.2789,  1.3804,  ...,  0.7587,  0.6574, -1.1576],\n",
       "        [-1.4799, -0.2942,  1.2202,  ..., -0.6812, -0.2769,  0.1958],\n",
       "        [ 1.7215, -0.1954, -1.3470,  ..., -1.4516,  0.1574,  1.0629],\n",
       "        ...,\n",
       "        [ 0.9183, -0.1502,  1.1669,  ...,  0.2427,  1.3927, -0.5307],\n",
       "        [ 1.0181, -1.1346,  0.4453,  ..., -0.4078, -0.5495,  0.5977],\n",
       "        [ 0.6386, -0.5167, -0.4093,  ..., -2.0766,  0.0428, -1.6502]])"
      ]
     },
     "execution_count": 8,
     "metadata": {},
     "output_type": "execute_result"
    }
   ],
   "source": [
    "torch.randn(128,20)"
   ]
  },
  {
   "cell_type": "code",
   "execution_count": 11,
   "metadata": {},
   "outputs": [
    {
     "data": {
      "text/plain": [
       "tensor([0., 0., 0., 0., 0., 0., 0., 0., 0., 0., 0., 0., 0., 0., 0., 0., 0., 0., 0., 0., 0.])"
      ]
     },
     "execution_count": 11,
     "metadata": {},
     "output_type": "execute_result"
    }
   ],
   "source": [
    "torch.zeros(21)"
   ]
  },
  {
   "cell_type": "code",
   "execution_count": 13,
   "metadata": {},
   "outputs": [
    {
     "data": {
      "text/plain": [
       "Parameter containing:\n",
       "tensor([1., 1.], requires_grad=True)"
      ]
     },
     "execution_count": 13,
     "metadata": {},
     "output_type": "execute_result"
    }
   ],
   "source": [
    "\n",
    "nn.Parameter(torch.ones(2))"
   ]
  },
  {
   "cell_type": "code",
   "execution_count": 16,
   "metadata": {},
   "outputs": [
    {
     "data": {
      "text/plain": [
       "Dropout(p=0.5)"
      ]
     },
     "execution_count": 16,
     "metadata": {},
     "output_type": "execute_result"
    }
   ],
   "source": [
    "nn.Dropout(0.5)"
   ]
  },
  {
   "cell_type": "code",
   "execution_count": 6,
   "metadata": {},
   "outputs": [
    {
     "name": "stderr",
     "output_type": "stream",
     "text": [
      "W0920 11:56:10.477542 140652666222400 lazy_loader.py:50] \n",
      "The TensorFlow contrib module will not be included in TensorFlow 2.0.\n",
      "For more information, please see:\n",
      "  * https://github.com/tensorflow/community/blob/master/rfcs/20180907-contrib-sunset.md\n",
      "  * https://github.com/tensorflow/addons\n",
      "  * https://github.com/tensorflow/io (for I/O related ops)\n",
      "If you depend on functionality not listed there, please file an issue.\n",
      "\n"
     ]
    },
    {
     "ename": "InternalError",
     "evalue": "cudaGetDevice() failed. Status: CUDA driver version is insufficient for CUDA runtime version",
     "output_type": "error",
     "traceback": [
      "\u001b[0;31m---------------------------------------------------------------------------\u001b[0m",
      "\u001b[0;31mInternalError\u001b[0m                             Traceback (most recent call last)",
      "\u001b[0;32m<ipython-input-6-daee4f225a94>\u001b[0m in \u001b[0;36m<module>\u001b[0;34m\u001b[0m\n\u001b[1;32m      1\u001b[0m \u001b[0minputs\u001b[0m \u001b[0;34m=\u001b[0m \u001b[0mtf\u001b[0m\u001b[0;34m.\u001b[0m\u001b[0mto_int32\u001b[0m\u001b[0;34m(\u001b[0m\u001b[0mtf\u001b[0m\u001b[0;34m.\u001b[0m\u001b[0mreshape\u001b[0m\u001b[0;34m(\u001b[0m\u001b[0mtf\u001b[0m\u001b[0;34m.\u001b[0m\u001b[0mrange\u001b[0m\u001b[0;34m(\u001b[0m\u001b[0;36m2\u001b[0m\u001b[0;34m*\u001b[0m\u001b[0;36m3\u001b[0m\u001b[0;34m)\u001b[0m\u001b[0;34m,\u001b[0m \u001b[0;34m(\u001b[0m\u001b[0;36m2\u001b[0m\u001b[0;34m,\u001b[0m \u001b[0;36m3\u001b[0m\u001b[0;34m)\u001b[0m\u001b[0;34m)\u001b[0m\u001b[0;34m)\u001b[0m\u001b[0;34m\u001b[0m\u001b[0;34m\u001b[0m\u001b[0m\n\u001b[1;32m      2\u001b[0m \u001b[0moutputs\u001b[0m \u001b[0;34m=\u001b[0m \u001b[0membedding\u001b[0m\u001b[0;34m(\u001b[0m\u001b[0minputs\u001b[0m\u001b[0;34m,\u001b[0m \u001b[0;36m6\u001b[0m\u001b[0;34m,\u001b[0m \u001b[0;36m2\u001b[0m\u001b[0;34m,\u001b[0m \u001b[0mzero_pad\u001b[0m\u001b[0;34m=\u001b[0m\u001b[0;32mTrue\u001b[0m\u001b[0;34m)\u001b[0m\u001b[0;34m\u001b[0m\u001b[0;34m\u001b[0m\u001b[0m\n\u001b[0;32m----> 3\u001b[0;31m \u001b[0;32mwith\u001b[0m \u001b[0mtf\u001b[0m\u001b[0;34m.\u001b[0m\u001b[0mSession\u001b[0m\u001b[0;34m(\u001b[0m\u001b[0;34m)\u001b[0m \u001b[0;32mas\u001b[0m \u001b[0msess\u001b[0m\u001b[0;34m:\u001b[0m\u001b[0;34m\u001b[0m\u001b[0;34m\u001b[0m\u001b[0m\n\u001b[0m\u001b[1;32m      4\u001b[0m     \u001b[0msess\u001b[0m\u001b[0;34m.\u001b[0m\u001b[0mrun\u001b[0m\u001b[0;34m(\u001b[0m\u001b[0mtf\u001b[0m\u001b[0;34m.\u001b[0m\u001b[0mglobal_variables_initializer\u001b[0m\u001b[0;34m(\u001b[0m\u001b[0;34m)\u001b[0m\u001b[0;34m)\u001b[0m\u001b[0;34m\u001b[0m\u001b[0;34m\u001b[0m\u001b[0m\n\u001b[1;32m      5\u001b[0m     \u001b[0mprint\u001b[0m\u001b[0;34m(\u001b[0m\u001b[0msess\u001b[0m\u001b[0;34m.\u001b[0m\u001b[0mrun\u001b[0m\u001b[0;34m(\u001b[0m\u001b[0moutputs\u001b[0m\u001b[0;34m)\u001b[0m\u001b[0;34m)\u001b[0m\u001b[0;34m\u001b[0m\u001b[0;34m\u001b[0m\u001b[0m\n",
      "\u001b[0;32m~/ls/envs/env_dialog/lib/python3.6/site-packages/tensorflow/python/client/session.py\u001b[0m in \u001b[0;36m__init__\u001b[0;34m(self, target, graph, config)\u001b[0m\n\u001b[1;32m   1568\u001b[0m \u001b[0;34m\u001b[0m\u001b[0m\n\u001b[1;32m   1569\u001b[0m     \"\"\"\n\u001b[0;32m-> 1570\u001b[0;31m     \u001b[0msuper\u001b[0m\u001b[0;34m(\u001b[0m\u001b[0mSession\u001b[0m\u001b[0;34m,\u001b[0m \u001b[0mself\u001b[0m\u001b[0;34m)\u001b[0m\u001b[0;34m.\u001b[0m\u001b[0m__init__\u001b[0m\u001b[0;34m(\u001b[0m\u001b[0mtarget\u001b[0m\u001b[0;34m,\u001b[0m \u001b[0mgraph\u001b[0m\u001b[0;34m,\u001b[0m \u001b[0mconfig\u001b[0m\u001b[0;34m=\u001b[0m\u001b[0mconfig\u001b[0m\u001b[0;34m)\u001b[0m\u001b[0;34m\u001b[0m\u001b[0;34m\u001b[0m\u001b[0m\n\u001b[0m\u001b[1;32m   1571\u001b[0m     \u001b[0;31m# NOTE(mrry): Create these on first `__enter__` to avoid a reference cycle.\u001b[0m\u001b[0;34m\u001b[0m\u001b[0;34m\u001b[0m\u001b[0;34m\u001b[0m\u001b[0m\n\u001b[1;32m   1572\u001b[0m     \u001b[0mself\u001b[0m\u001b[0;34m.\u001b[0m\u001b[0m_default_graph_context_manager\u001b[0m \u001b[0;34m=\u001b[0m \u001b[0;32mNone\u001b[0m\u001b[0;34m\u001b[0m\u001b[0;34m\u001b[0m\u001b[0m\n",
      "\u001b[0;32m~/ls/envs/env_dialog/lib/python3.6/site-packages/tensorflow/python/client/session.py\u001b[0m in \u001b[0;36m__init__\u001b[0;34m(self, target, graph, config)\u001b[0m\n\u001b[1;32m    691\u001b[0m     \u001b[0;32mtry\u001b[0m\u001b[0;34m:\u001b[0m\u001b[0;34m\u001b[0m\u001b[0;34m\u001b[0m\u001b[0m\n\u001b[1;32m    692\u001b[0m       \u001b[0;31m# pylint: disable=protected-access\u001b[0m\u001b[0;34m\u001b[0m\u001b[0;34m\u001b[0m\u001b[0;34m\u001b[0m\u001b[0m\n\u001b[0;32m--> 693\u001b[0;31m       \u001b[0mself\u001b[0m\u001b[0;34m.\u001b[0m\u001b[0m_session\u001b[0m \u001b[0;34m=\u001b[0m \u001b[0mtf_session\u001b[0m\u001b[0;34m.\u001b[0m\u001b[0mTF_NewSessionRef\u001b[0m\u001b[0;34m(\u001b[0m\u001b[0mself\u001b[0m\u001b[0;34m.\u001b[0m\u001b[0m_graph\u001b[0m\u001b[0;34m.\u001b[0m\u001b[0m_c_graph\u001b[0m\u001b[0;34m,\u001b[0m \u001b[0mopts\u001b[0m\u001b[0;34m)\u001b[0m\u001b[0;34m\u001b[0m\u001b[0;34m\u001b[0m\u001b[0m\n\u001b[0m\u001b[1;32m    694\u001b[0m       \u001b[0;31m# pylint: enable=protected-access\u001b[0m\u001b[0;34m\u001b[0m\u001b[0;34m\u001b[0m\u001b[0;34m\u001b[0m\u001b[0m\n\u001b[1;32m    695\u001b[0m     \u001b[0;32mfinally\u001b[0m\u001b[0;34m:\u001b[0m\u001b[0;34m\u001b[0m\u001b[0;34m\u001b[0m\u001b[0m\n",
      "\u001b[0;31mInternalError\u001b[0m: cudaGetDevice() failed. Status: CUDA driver version is insufficient for CUDA runtime version"
     ]
    }
   ],
   "source": [
    "\n",
    "    \n",
    "    inputs = tf.to_int32(tf.reshape(tf.range(2*3), (2, 3)))\n",
    "    outputs = embedding(inputs, 6, 2, zero_pad=True)\n",
    "    with tf.Session() as sess:\n",
    "        sess.run(tf.global_variables_initializer())\n",
    "        print(sess.run(outputs))"
   ]
  },
  {
   "cell_type": "code",
   "execution_count": 2,
   "metadata": {},
   "outputs": [],
   "source": [
    "import tensorflow as tf"
   ]
  },
  {
   "cell_type": "code",
   "execution_count": 5,
   "metadata": {},
   "outputs": [],
   "source": [
    "def embedding(inputs, \n",
    "              vocab_size, \n",
    "              num_units, \n",
    "              zero_pad=True, \n",
    "              scale=True,\n",
    "              scope=\"embedding\", \n",
    "              reuse=None):\n",
    "    with tf.variable_scope(scope, reuse=reuse):\n",
    "        lookup_table = tf.get_variable('lookup_table',\n",
    "                                       dtype=tf.float32,\n",
    "                                       shape=[vocab_size, num_units],\n",
    "                                       initializer=tf.contrib.layers.xavier_initializer())\n",
    "        if zero_pad:\n",
    "            lookup_table = tf.concat((tf.zeros(shape=[1, num_units]),\n",
    "                                      lookup_table[1:, :]), 0)\n",
    "        outputs = tf.nn.embedding_lookup(lookup_table, inputs)\n",
    "        \n",
    "        if scale:\n",
    "            outputs = outputs * (num_units ** 0.5) \n",
    "            \n",
    "    return outputs"
   ]
  },
  {
   "cell_type": "code",
   "execution_count": 7,
   "metadata": {},
   "outputs": [
    {
     "data": {
      "text/plain": [
       "'1.14.0'"
      ]
     },
     "execution_count": 7,
     "metadata": {},
     "output_type": "execute_result"
    }
   ],
   "source": [
    "tf.__version__"
   ]
  },
  {
   "cell_type": "code",
   "execution_count": 8,
   "metadata": {},
   "outputs": [
    {
     "name": "stdout",
     "output_type": "stream",
     "text": [
      "Package              Version \n",
      "-------------------- --------\n",
      "absl-py              0.7.1   \n",
      "astor                0.8.0   \n",
      "attrs                19.1.0  \n",
      "backcall             0.1.0   \n",
      "bleach               3.1.0   \n",
      "certifi              2019.3.9\n",
      "cffi                 1.12.3  \n",
      "chardet              3.0.4   \n",
      "cycler               0.10.0  \n",
      "decorator            4.4.0   \n",
      "defusedxml           0.6.0   \n",
      "entrypoints          0.3     \n",
      "gast                 0.2.2   \n",
      "google-pasta         0.1.7   \n",
      "gpt-2-simple         0.5.4   \n",
      "gpt2-client          1.9.7   \n",
      "grpcio               1.22.0  \n",
      "h5py                 2.9.0   \n",
      "idna                 2.8     \n",
      "ipykernel            5.1.1   \n",
      "ipyparallel          6.2.4   \n",
      "ipython              7.7.0   \n",
      "ipython-genutils     0.2.0   \n",
      "ipywidgets           7.5.0   \n",
      "jedi                 0.13.3  \n",
      "Jinja2               2.10.1  \n",
      "jsonschema           3.0.1   \n",
      "jupyter-client       5.3.1   \n",
      "jupyter-console      6.0.0   \n",
      "jupyter-core         4.5.0   \n",
      "Keras                2.2.5   \n",
      "Keras-Applications   1.0.8   \n",
      "Keras-Preprocessing  1.1.0   \n",
      "kiwisolver           1.1.0   \n",
      "Markdown             3.1.1   \n",
      "MarkupSafe           1.1.1   \n",
      "matplotlib           3.1.1   \n",
      "mistune              0.8.4   \n",
      "mkl-fft              1.0.14  \n",
      "mkl-random           1.0.2   \n",
      "mkl-service          2.0.2   \n",
      "nbconvert            5.5.0   \n",
      "nbformat             4.4.0   \n",
      "networkx             2.3     \n",
      "nltk                 3.4.4   \n",
      "notebook             6.0.0   \n",
      "numpy                1.17.0  \n",
      "pandas               0.25.0  \n",
      "pandocfilters        1.4.2   \n",
      "parso                0.5.0   \n",
      "pexpect              4.7.0   \n",
      "pickleshare          0.7.5   \n",
      "pip                  19.1.1  \n",
      "prometheus-client    0.7.1   \n",
      "prompt-toolkit       2.0.9   \n",
      "protobuf             3.9.1   \n",
      "ptyprocess           0.6.0   \n",
      "pycparser            2.19    \n",
      "Pygments             2.4.2   \n",
      "pyparsing            2.4.2   \n",
      "pyrsistent           0.14.11 \n",
      "python-dateutil      2.8.0   \n",
      "pytz                 2019.2  \n",
      "PyYAML               5.1.2   \n",
      "pyzmq                18.0.0  \n",
      "qtconsole            4.5.2   \n",
      "regex                2019.6.8\n",
      "requests             2.22.0  \n",
      "scipy                1.3.1   \n",
      "seaborn              0.9.0   \n",
      "Send2Trash           1.5.0   \n",
      "setuptools           41.0.1  \n",
      "six                  1.12.0  \n",
      "tensorboard          1.14.0  \n",
      "tensorflow           1.14.0  \n",
      "tensorflow-estimator 1.14.0  \n",
      "termcolor            1.1.0   \n",
      "terminado            0.8.2   \n",
      "testpath             0.4.2   \n",
      "toposort             1.5     \n",
      "torch                1.1.0   \n",
      "tornado              6.0.3   \n",
      "tqdm                 4.33.0  \n",
      "traitlets            4.3.2   \n",
      "urllib3              1.25.3  \n",
      "wcwidth              0.1.7   \n",
      "webencodings         0.5.1   \n",
      "Werkzeug             0.15.5  \n",
      "wheel                0.33.4  \n",
      "widgetsnbextension   3.5.0   \n",
      "wrapt                1.11.2  \n",
      "xlrd                 1.2.0   \n",
      "Note: you may need to restart the kernel to use updated packages.\n"
     ]
    }
   ],
   "source": [
    "pip list\n"
   ]
  },
  {
   "cell_type": "code",
   "execution_count": 9,
   "metadata": {},
   "outputs": [
    {
     "name": "stdout",
     "output_type": "stream",
     "text": [
      "# packages in environment at /home/fengyuting/ls/envs/env_dialog:\n",
      "#\n",
      "_libgcc_mutex             0.1                        main  \n",
      "_tflow_select             2.1.0                       gpu  \n",
      "absl-py                   0.7.1                     <pip>\n",
      "absl-py                   0.7.1                    py36_0  \n",
      "astor                     0.8.0                     <pip>\n",
      "astor                     0.8.0                    py36_0  \n",
      "attrs                     19.1.0                   py36_1  \n",
      "backcall                  0.1.0                    py36_0  \n",
      "blas                      1.0                         mkl  \n",
      "bleach                    3.1.0                    py36_0  \n",
      "c-ares                    1.15.0            h7b6447c_1001  \n",
      "ca-certificates           2019.5.15                     0  \n",
      "certifi                   2019.3.9                 py36_0  \n",
      "cffi                      1.12.3           py36h2e261b9_0  \n",
      "chardet                   3.0.4                     <pip>\n",
      "cudatoolkit               9.2                           0  \n",
      "cudnn                     7.6.0                 cuda9.2_0  \n",
      "cupti                     9.2.148                       0  \n",
      "cycler                    0.10.0                    <pip>\n",
      "dbus                      1.13.6               h746ee38_0  \n",
      "decorator                 4.4.0                    py36_1  \n",
      "defusedxml                0.6.0                      py_0  \n",
      "entrypoints               0.3                      py36_0  \n",
      "expat                     2.2.6                he6710b0_0  \n",
      "fontconfig                2.13.0               h9420a91_0  \n",
      "freetype                  2.9.1                h8a8886c_1  \n",
      "gast                      0.2.2                    py36_0  \n",
      "gast                      0.2.2                     <pip>\n",
      "glib                      2.56.2               hd408876_0  \n",
      "gmp                       6.1.2                h6c8ec71_1  \n",
      "google-pasta              0.1.7                      py_0  \n",
      "gpt-2-simple              0.5.4                     <pip>\n",
      "gpt2-client               1.9.7                     <pip>\n",
      "grpcio                    1.16.1           py36hf8bcb03_1  \n",
      "grpcio                    1.22.0                    <pip>\n",
      "gst-plugins-base          1.14.0               hbbd80ab_1  \n",
      "gstreamer                 1.14.0               hb453b48_1  \n",
      "h5py                      2.9.0            py36h7918eee_0  \n",
      "hdf5                      1.10.4               hb1b8bf9_0  \n",
      "icu                       58.2                 h9c2bf20_1  \n",
      "idna                      2.8                       <pip>\n",
      "intel-openmp              2019.4                      243  \n",
      "ipykernel                 5.1.1            py36h39e3cac_0  \n",
      "ipyparallel               6.2.4                    py36_0  \n",
      "ipython                   7.7.0            py36h39e3cac_0  \n",
      "ipython_genutils          0.2.0                    py36_0  \n",
      "ipywidgets                7.5.0                      py_0  \n",
      "jedi                      0.13.3                   py36_0  \n",
      "jinja2                    2.10.1                   py36_0  \n",
      "jpeg                      9b                   h024ee3a_2  \n",
      "jsonschema                3.0.1                    py36_0  \n",
      "jupyter                   1.0.0                    py36_7  \n",
      "jupyter_client            5.3.1                      py_0  \n",
      "jupyter_console           6.0.0                    py36_0  \n",
      "jupyter_core              4.5.0                      py_0  \n",
      "Keras                     2.2.5                     <pip>\n",
      "keras-applications        1.0.8                      py_0  \n",
      "keras-preprocessing       1.1.0                      py_1  \n",
      "kiwisolver                1.1.0                     <pip>\n",
      "libedit                   3.1.20181209         hc058e9b_0  \n",
      "libffi                    3.2.1                hd88cf55_4  \n",
      "libgcc-ng                 9.1.0                hdf63c60_0  \n",
      "libgfortran-ng            7.3.0                hdf63c60_0  \n",
      "libpng                    1.6.37               hbc83047_0  \n",
      "libprotobuf               3.8.0                hd408876_0  \n",
      "libsodium                 1.0.16               h1bed415_0  \n",
      "libstdcxx-ng              9.1.0                hdf63c60_0  \n",
      "libuuid                   1.0.3                h1bed415_2  \n",
      "libxcb                    1.13                 h1bed415_1  \n",
      "libxml2                   2.9.9                hea5a465_1  \n",
      "markdown                  3.1.1                    py36_0  \n",
      "markupsafe                1.1.1            py36h7b6447c_0  \n",
      "matplotlib                3.1.1                     <pip>\n",
      "mistune                   0.8.4            py36h7b6447c_0  \n",
      "mkl                       2019.4                      243  \n",
      "mkl-service               2.0.2            py36h7b6447c_0  \n",
      "mkl_fft                   1.0.14           py36ha843d7b_0  \n",
      "mkl_random                1.0.2            py36hd81dba3_0  \n",
      "nbconvert                 5.5.0                      py_0  \n",
      "nbformat                  4.4.0                    py36_0  \n",
      "ncurses                   6.1                  he6710b0_1  \n",
      "networkx                  2.3                       <pip>\n",
      "ninja                     1.9.0            py36hfd86e86_0  \n",
      "nltk                      3.4.4                    py36_0  \n",
      "notebook                  6.0.0                    py36_0  \n",
      "numpy                     1.17.0                    <pip>\n",
      "numpy                     1.16.4           py36h7e9f1db_0  \n",
      "numpy-base                1.16.4           py36hde5b4d6_0  \n",
      "openssl                   1.1.1c               h7b6447c_1  \n",
      "pandas                    0.25.0           py36he6710b0_0  \n",
      "pandoc                    2.2.3.2                       0  \n",
      "pandocfilters             1.4.2                    py36_1  \n",
      "parso                     0.5.0                      py_0  \n",
      "pcre                      8.43                 he6710b0_0  \n",
      "pexpect                   4.7.0                    py36_0  \n",
      "pickleshare               0.7.5                    py36_0  \n",
      "pip                       19.1.1                   py36_0  \n",
      "prometheus_client         0.7.1                      py_0  \n",
      "prompt_toolkit            2.0.9                    py36_0  \n",
      "protobuf                  3.9.1                     <pip>\n",
      "protobuf                  3.8.0            py36he6710b0_0  \n",
      "ptyprocess                0.6.0                    py36_0  \n",
      "pycparser                 2.19                     py36_0  \n",
      "pygments                  2.4.2                      py_0  \n",
      "pyparsing                 2.4.2                     <pip>\n",
      "pyqt                      5.9.2            py36h05f1152_2  \n",
      "pyrsistent                0.14.11          py36h7b6447c_0  \n",
      "python                    3.6.8                h0371630_0  \n",
      "python-dateutil           2.8.0                    py36_0  \n",
      "pytorch                   1.1.0           cuda92py36h65efead_0  \n",
      "pytz                      2019.2                     py_0  \n",
      "PyYAML                    5.1.2                     <pip>\n",
      "pyzmq                     18.0.0           py36he6710b0_0  \n",
      "qt                        5.9.7                h5867ecd_1  \n",
      "qtconsole                 4.5.2                      py_0  \n",
      "readline                  7.0                  h7b6447c_5  \n",
      "regex                     2019.6.8                  <pip>\n",
      "requests                  2.22.0                    <pip>\n",
      "scipy                     1.3.1                     <pip>\n",
      "scipy                     1.3.1            py36h7c811a0_0  \n",
      "seaborn                   0.9.0                     <pip>\n",
      "send2trash                1.5.0                    py36_0  \n",
      "setuptools                41.0.1                   py36_0  \n",
      "sip                       4.19.8           py36hf484d3e_0  \n",
      "six                       1.12.0                   py36_0  \n",
      "sqlite                    3.28.0               h7b6447c_0  \n",
      "tensorboard               1.14.0           py36hf484d3e_0  \n",
      "tensorflow                1.14.0          gpu_py36hfc5689a_0  \n",
      "tensorflow-base           1.14.0          gpu_py36h611c6d2_0  \n",
      "tensorflow-estimator      1.14.0                     py_0  \n",
      "tensorflow-gpu            1.14.0               h0d30ee6_0  \n",
      "termcolor                 1.1.0                    py36_1  \n",
      "termcolor                 1.1.0                     <pip>\n",
      "terminado                 0.8.2                    py36_0  \n",
      "testpath                  0.4.2                    py36_0  \n",
      "tk                        8.6.8                hbc83047_0  \n",
      "toposort                  1.5                       <pip>\n",
      "tornado                   6.0.3            py36h7b6447c_0  \n",
      "tqdm                      4.33.0                    <pip>\n",
      "traitlets                 4.3.2                    py36_0  \n",
      "urllib3                   1.25.3                    <pip>\n",
      "wcwidth                   0.1.7                    py36_0  \n",
      "webencodings              0.5.1                    py36_1  \n",
      "werkzeug                  0.15.5                     py_0  \n",
      "wheel                     0.33.4                   py36_0  \n",
      "widgetsnbextension        3.5.0                    py36_0  \n",
      "wrapt                     1.11.2           py36h7b6447c_0  \n",
      "xlrd                      1.2.0                    py36_0  \n",
      "xz                        5.2.4                h14c3975_4  \n",
      "zeromq                    4.3.1                he6710b0_3  \n",
      "zlib                      1.2.11               h7b6447c_3  \n"
     ]
    },
    {
     "name": "stdout",
     "output_type": "stream",
     "text": [
      "\n",
      "Note: you may need to restart the kernel to use updated packages.\n"
     ]
    }
   ],
   "source": [
    "conda list"
   ]
  },
  {
   "cell_type": "code",
   "execution_count": null,
   "metadata": {},
   "outputs": [],
   "source": []
  }
 ],
 "metadata": {
  "kernelspec": {
   "display_name": "Python 3",
   "language": "python",
   "name": "python3"
  },
  "language_info": {
   "codemirror_mode": {
    "name": "ipython",
    "version": 3
   },
   "file_extension": ".py",
   "mimetype": "text/x-python",
   "name": "python",
   "nbconvert_exporter": "python",
   "pygments_lexer": "ipython3",
   "version": "3.6.8"
  }
 },
 "nbformat": 4,
 "nbformat_minor": 2
}
